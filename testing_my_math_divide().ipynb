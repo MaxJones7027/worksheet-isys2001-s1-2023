{
  "nbformat": 4,
  "nbformat_minor": 0,
  "metadata": {
    "colab": {
      "name": "testing_my_math.divide().ipynb",
      "provenance": [],
      "include_colab_link": true
    },
    "kernelspec": {
      "name": "python3",
      "display_name": "Python 3"
    },
    "language_info": {
      "name": "python"
    }
  },
  "cells": [
    {
      "cell_type": "markdown",
      "metadata": {
        "id": "view-in-github",
        "colab_type": "text"
      },
      "source": [
        "<a href=\"https://colab.research.google.com/github/MaxJones7027/worksheet-isys2001-s1-2023/blob/main/testing_my_math_divide().ipynb\" target=\"_parent\"><img src=\"https://colab.research.google.com/assets/colab-badge.svg\" alt=\"Open In Colab\"/></a>"
      ]
    },
    {
      "cell_type": "markdown",
      "source": [
        "## Testing  my_math.divide()\n",
        "\n",
        "What is your preferred testing strategy? Do you like using the assert statement or prefer doctest?  \n",
        "\n",
        "Using your preferred testing strategy, develop a test table and test the following funciton.  Where required update the function so all test behave as expected.\n",
        "\n",
        "\n",
        "## Function to test"
      ],
      "metadata": {
        "id": "LIfoDVzKX7uK"
      }
    },
    {
      "cell_type": "code",
      "source": [
        "def divide(x, y):\n",
        "    '''Divide first by second number'''\n",
        "    return x / y"
      ],
      "metadata": {
        "id": "YH9gDoOYvKwg"
      },
      "execution_count": 11,
      "outputs": []
    },
    {
      "cell_type": "code",
      "source": [
        "def divide(x, y):\n",
        "    '''Divide first by second number'''\n",
        "    if (type(x) == int or type (x) == float) and (type(y) == int or type (y) == float):\n",
        "      if y== 0:\n",
        "        return \"Cannot divide by zero\"\n",
        "      return x / y\n",
        "    return \"Not a number\""
      ],
      "metadata": {
        "id": "_i-wvAKiiP6a"
      },
      "execution_count": 26,
      "outputs": []
    },
    {
      "cell_type": "markdown",
      "source": [
        "## Test Table\n",
        "\n",
        "List you test cases here."
      ],
      "metadata": {
        "id": "JYSZ-53nLF6n"
      }
    },
    {
      "cell_type": "markdown",
      "source": [
        "**Test Cases**\n",
        "\n",
        "\n",
        "1.   Valid - 1,1 = 1 \n",
        "\n",
        "2.   Valid - -1,-1 = 1\n",
        "\n",
        "3.   Valid - 0, 1 = 0\n",
        "\n",
        "4.   Valid - 1.1,1.1 = 1\n",
        "\n",
        "5.   Valid - -1.1,-1.1 = 1\n",
        "\n",
        "6.   Valid - 2345342,324234234 = 0.0072334804720219645\n",
        "\n",
        "7.   Invalid - 0,0 = 'Cannot divide by zero'\n",
        "\n",
        "8.   Invalid - 1,0 = 'Cannot divide by zero'\n",
        "\n",
        "9.  Invalid - '1',1 = 'Not a number'\n",
        "\n",
        "10.  Invalid - One,1 = 'Not a number'\n",
        "\n",
        "\n",
        "\n",
        "\n",
        "\n",
        "\n",
        "\n"
      ],
      "metadata": {
        "id": "v5_5ITINcIVG"
      }
    },
    {
      "cell_type": "code",
      "source": [
        "assert divide(1, 1) == 1\n",
        "assert divide(-1, -1) == 1\n",
        "assert divide(0, 1) == 0\n",
        "assert divide(1.1, 1.1) == 1\n",
        "assert divide(-1.1, -1.1) == 1\n",
        "assert divide(2345342, 324234234) == 0.0072334804720219645\n",
        "assert divide(0, 0) == 'Cannot divide by zero'\n",
        "assert divide(1, 0) == 'Cannot divide by zero'\n",
        "assert divide('1', 1) == 'Not a number'\n",
        "assert divide('one', 1) == 'Not a number'"
      ],
      "metadata": {
        "id": "fs8uM1Nbfbyv"
      },
      "execution_count": 28,
      "outputs": []
    }
  ]
}