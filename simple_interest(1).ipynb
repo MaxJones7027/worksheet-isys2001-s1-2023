{
  "cells": [
    {
      "cell_type": "markdown",
      "metadata": {
        "id": "view-in-github",
        "colab_type": "text"
      },
      "source": [
        "<a href=\"https://colab.research.google.com/github/MaxJones7027/worksheet-isys2001-s1-2023/blob/main/simple_interest(1).ipynb\" target=\"_parent\"><img src=\"https://colab.research.google.com/assets/colab-badge.svg\" alt=\"Open In Colab\"/></a>"
      ]
    },
    {
      "cell_type": "markdown",
      "id": "b7a42e71-7361-4878-a06f-0fc857db581f",
      "metadata": {
        "id": "b7a42e71-7361-4878-a06f-0fc857db581f"
      },
      "source": [
        "# Simple Interest Calculator\n",
        "\n",
        "The process of problem solving we will use can be broken down into 5 key steps:\n",
        "1. State the problem clearly\n",
        "2. Describe the input and output information\n",
        "3. Work the problem by hand\n",
        "4. Develop an algorithm (and convert to python) \n",
        "5. Test solution with a variety of data\n",
        "\n",
        "\n",
        "### 1. State Problem Clearly\n",
        "\n",
        "Simple interest in a bank is given by the formula:\n",
        "\n",
        "    Simple Interest = (Ammount Borrowed  x  Interest Rate * years) / 100\n",
        "    \n",
        "\n",
        "### 2. Describe Inputs/Outputs\n",
        "\n",
        "\n",
        "| input | processing | output|\n",
        "|-------|------------|-------|\n",
        "| Amount Borowed |    | Simple Interest |\n",
        "| Interest Rate | | |\n",
        "| Loan Period | | | \n",
        "\n",
        "### 3. Work the problme by hand\n",
        "\n",
        "Borrowed $10,000\n",
        "Interest Rate of 2%\n",
        "Lenghtof loan is 5 years\n",
        "\n",
        "\n",
        "Simple interest \n",
        "=  (10,000 * 2 * 5) / 100\n",
        "= 1,000\n",
        "\n",
        "### 4. Develop and algorithm\n",
        "\n",
        "Here is the pseudocode\n",
        "\n",
        "        Get the amount borrowed\n",
        "        Get the interest rate\n",
        "        Get the loan period\n",
        "        let simple interest = (ammount borrowed * interest rate * loan period) / 100\n",
        "        print The total interest on the loan is: simple interest\n"
      ]
    },
    {
      "cell_type": "code",
      "execution_count": 5,
      "id": "f9a6e70b-c83a-4513-90d7-3cbcfbf9cde7",
      "metadata": {
        "id": "f9a6e70b-c83a-4513-90d7-3cbcfbf9cde7",
        "colab": {
          "base_uri": "https://localhost:8080/"
        },
        "outputId": "53fd1db0-171b-40b6-d521-296aedce4c7f"
      },
      "outputs": [
        {
          "output_type": "stream",
          "name": "stdout",
          "text": [
            "1000.0\n"
          ]
        }
      ],
      "source": [
        "# Get the amount borrowed\n",
        "amount = 10000                            \n",
        "# Get the interest rate\n",
        "interestrate = 2\n",
        "# Get the loan period\n",
        "length = 5                      \n",
        "# let simple interest = (ammount borrowed * interest rate * loan period)\n",
        "simpleinterest = (10000*2*5)/100 \n",
        "# print The total interest on the loan is: simple interest\n",
        "print(simpleinterest)"
      ]
    },
    {
      "cell_type": "markdown",
      "id": "26e44634-3041-4ffb-acd9-fa11eb36f2df",
      "metadata": {
        "id": "26e44634-3041-4ffb-acd9-fa11eb36f2df"
      },
      "source": [
        "### 5. Test with a variety of data.\n",
        "\n",
        "We could modify the above cell with new data and then run the code.  But rather than type in different values each time, perhaps it easier to be prompted for the infromation.  \n",
        "\n",
        "Write a version that uses the input() function to prompt the user for the required data."
      ]
    },
    {
      "cell_type": "code",
      "execution_count": 10,
      "id": "4299ad3d-5672-42fa-bf17-fbf7360e66c5",
      "metadata": {
        "id": "4299ad3d-5672-42fa-bf17-fbf7360e66c5",
        "colab": {
          "base_uri": "https://localhost:8080/"
        },
        "outputId": "862c54b5-56ba-49a1-9b24-bd1b548ea5af"
      },
      "outputs": [
        {
          "output_type": "stream",
          "name": "stdout",
          "text": [
            "How much is the loan worth? 10000\n",
            "How long is the loan? 5\n",
            "what is the interest on the loan? 2\n",
            "The simple interest for the loan will be 1000.0\n"
          ]
        }
      ],
      "source": [
        "principle = float(input('How much is the loan worth? '))\n",
        "time = float(input('How long is the loan? '))\n",
        "rate = float(input('what is the interest on the loan? '))\n",
        "\n",
        "simple_interest = (principle * time * rate) / 100 \n",
        "\n",
        "print(\"The simple interest for the loan will be\", simple_interest)"
      ]
    }
  ],
  "metadata": {
    "kernelspec": {
      "display_name": "Python 3 (ipykernel)",
      "language": "python",
      "name": "python3"
    },
    "language_info": {
      "codemirror_mode": {
        "name": "ipython",
        "version": 3
      },
      "file_extension": ".py",
      "mimetype": "text/x-python",
      "name": "python",
      "nbconvert_exporter": "python",
      "pygments_lexer": "ipython3",
      "version": "3.9.6"
    },
    "colab": {
      "provenance": [],
      "include_colab_link": true
    }
  },
  "nbformat": 4,
  "nbformat_minor": 5
}