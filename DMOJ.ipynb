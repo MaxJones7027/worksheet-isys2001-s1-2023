{
  "nbformat": 4,
  "nbformat_minor": 0,
  "metadata": {
    "colab": {
      "provenance": [],
      "authorship_tag": "ABX9TyPiopRbO4/d9iQnBV/Do+lV",
      "include_colab_link": true
    },
    "kernelspec": {
      "name": "python3",
      "display_name": "Python 3"
    },
    "language_info": {
      "name": "python"
    }
  },
  "cells": [
    {
      "cell_type": "markdown",
      "metadata": {
        "id": "view-in-github",
        "colab_type": "text"
      },
      "source": [
        "<a href=\"https://colab.research.google.com/github/MaxJones7027/worksheet-isys2001-s1-2023/blob/main/DMOJ.ipynb\" target=\"_parent\"><img src=\"https://colab.research.google.com/assets/colab-badge.svg\" alt=\"Open In Colab\"/></a>"
      ]
    },
    {
      "cell_type": "code",
      "execution_count": 1,
      "metadata": {
        "colab": {
          "base_uri": "https://localhost:8080/"
        },
        "id": "R1H58KlWQZBA",
        "outputId": "a7426fe2-046d-481c-9eee-2fe294f4ffbf"
      },
      "outputs": [
        {
          "output_type": "stream",
          "name": "stdout",
          "text": [
            "problem one is really long\n"
          ]
        }
      ],
      "source": [
        "print(\"problem one is really long\")"
      ]
    },
    {
      "cell_type": "code",
      "source": [
        "string = input() \n",
        "word_count = len(string.split())\n",
        "print(word_count)"
      ],
      "metadata": {
        "id": "xZRlcxuARlh3"
      },
      "execution_count": null,
      "outputs": []
    }
  ]
}