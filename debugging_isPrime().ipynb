{
  "nbformat": 4,
  "nbformat_minor": 0,
  "metadata": {
    "colab": {
      "name": "debugging_isPrime().ipynb",
      "provenance": [],
      "include_colab_link": true
    },
    "kernelspec": {
      "name": "python3",
      "display_name": "Python 3"
    },
    "language_info": {
      "name": "python"
    }
  },
  "cells": [
    {
      "cell_type": "markdown",
      "metadata": {
        "id": "view-in-github",
        "colab_type": "text"
      },
      "source": [
        "<a href=\"https://colab.research.google.com/github/MaxJones7027/worksheet-isys2001-s1-2023/blob/main/debugging_isPrime().ipynb\" target=\"_parent\"><img src=\"https://colab.research.google.com/assets/colab-badge.svg\" alt=\"Open In Colab\"/></a>"
      ]
    },
    {
      "cell_type": "markdown",
      "source": [
        "## Debug isPrime()\n",
        "What is your preferred method? Do you like using print() or prefer *pdb*?   Since mistakes in programs will happen, the important part is that you have a debugging strategy, not which tool you use.\n",
        "\n",
        "Here is a function that needs debugging. Using either print() or *pdb*, debug the following function."
      ],
      "metadata": {
        "id": "LIfoDVzKX7uK"
      }
    },
    {
      "cell_type": "code",
      "source": [
        "def isPrime(candidate):\n",
        "    if candidate <= 1:\n",
        "        return False\n",
        "\n",
        "    lower = candidate - 1\n",
        "    while lower > 1:\n",
        "        if candidate / lower == candidate // lower:\n",
        "            return False\n",
        "        lower -= 1\n",
        "\n",
        "    return True"
      ],
      "metadata": {
        "id": "YH9gDoOYvKwg"
      },
      "execution_count": 1,
      "outputs": []
    },
    {
      "cell_type": "code",
      "source": [
        "def isPrime(candidate):\n",
        "    if (type(candidate) == str or type(candidate) == float):\n",
        "        print('Please use an integer')\n",
        "        return False\n",
        "    \n",
        "    if candidate <= 1:\n",
        "        return False\n",
        "\n",
        "    lower = candidate - 1\n",
        "    while lower > 1:\n",
        "        print(\"candidate:\", candidate)\n",
        "        print(\"lower:\", lower)\n",
        "        if candidate / lower == candidate // lower:\n",
        "            return False\n",
        "        lower -= 1\n",
        "\n",
        "    return True"
      ],
      "metadata": {
        "id": "mR6FcgdwZ8L6"
      },
      "execution_count": 35,
      "outputs": []
    },
    {
      "cell_type": "code",
      "source": [
        "isPrime('10')"
      ],
      "metadata": {
        "id": "ZXLptB_radIi",
        "outputId": "c1498242-20e3-47e3-9c85-45d5b3c9ab88",
        "colab": {
          "base_uri": "https://localhost:8080/"
        }
      },
      "execution_count": 37,
      "outputs": [
        {
          "output_type": "stream",
          "name": "stdout",
          "text": [
            "Please use an integer\n"
          ]
        },
        {
          "output_type": "execute_result",
          "data": {
            "text/plain": [
              "False"
            ]
          },
          "metadata": {},
          "execution_count": 37
        }
      ]
    },
    {
      "cell_type": "code",
      "source": [
        "isPrime(2.5)"
      ],
      "metadata": {
        "id": "XQWJ3z13ayGS",
        "outputId": "50a1923d-9558-4d6f-e7e3-5686904305e5",
        "colab": {
          "base_uri": "https://localhost:8080/"
        }
      },
      "execution_count": 36,
      "outputs": [
        {
          "output_type": "stream",
          "name": "stdout",
          "text": [
            "Please use an integer\n"
          ]
        },
        {
          "output_type": "execute_result",
          "data": {
            "text/plain": [
              "False"
            ]
          },
          "metadata": {},
          "execution_count": 36
        }
      ]
    }
  ]
}